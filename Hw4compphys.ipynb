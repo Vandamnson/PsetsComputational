{
 "cells": [
  {
   "cell_type": "markdown",
   "metadata": {},
   "source": [
    "# 1"
   ]
  },
  {
   "cell_type": "markdown",
   "metadata": {},
   "source": [
    "To estimate approximate error:                                             (i)Define approximate error: $$\\epsilon_{app}=|\\delta(I)=|I_{anal}-I_{simpsons}|$$ \n",
    "\n",
    "\n"
   ]
  },
  {
   "cell_type": "markdown",
   "metadata": {},
   "source": [
    "(ii) Find $I_{Simpsons}$ by expanding the integrand $f(x)$ at a generic midpoint $x_{i}$ in the simpsons rule integral limits $[x_{i-1},x_{i+1}] \\subset [a,b]$.Defining interval $h=\\frac{b-a}{N}$, where $N$ is odd"
   ]
  },
  {
   "cell_type": "markdown",
   "metadata": {},
   "source": [
    "Expanding $f(x)$ at $x_i$:\n",
    "$$f(x)=\\sum_{j=0}^{N}\\frac{f^{(j)}(x_i)}{j!}(x-x_i)^j$$"
   ]
  },
  {
   "cell_type": "markdown",
   "metadata": {},
   "source": [
    "The integral then becomes:\n",
    "$$I_{simpsons}=\\int_{x_{i-1}}^{x_{i+1}}dx \\sum_{j=0}^{N}\\frac{f^{(j)}(x_i)}{j!}(x-x_i)^j$$"
   ]
  },
  {
   "cell_type": "markdown",
   "metadata": {},
   "source": [
    "Which then becomes:\n",
    "    $$I_{simpsons}=\\int_{x_{i-1}}^{x_{i+1}}dx \\sum_{j=0}^{N}\\frac{f^{(j)}(x_i)}{(j+1)!}(x-x_i)^{j+1}$$ Known (1): $x_{i\\pm 1}-x_i= \\pm h$  $$I_{Simpsons}=\\sum_{j=0}^{N}\\frac{f^{(j)}(x_i)}{(j+1)!}(x-x_i)^{j+1}\\biggl|_{x_{i-1}}^{x_{i+1}}$$ From Known (1), we can see that all the even powers of $h$ will vanish, thus:\n",
    "    \n",
    " $$I_{Simpsons}=2\\sum_{j=0}^{N}\\frac{f^{(2j)}(x_i)}{(2j+1)!}(h)^{2j+1}$$\n",
    " $$I_{Simpsons}=2\\biggl[f(x_i)h+\\frac{f^{(2)}(x_i)}{3!}h^3+\\frac{f^{(4)}(x_i)}{5!}h^5)\\biggl]$$"
   ]
  },
  {
   "cell_type": "markdown",
   "metadata": {},
   "source": [
    "(iii) Define $I_{anal}=\\int_{x_{i-1}}^{x_{i+1}}dx f(x)=\\int_{x_{i-1}}^{x_{i+1}}dx (ax^2+bx+c)=\\frac{a}{3}x^3+\\frac{b}{2}x^2+cx\\biggl|_{x_{i-1}}^{x_{i+1}}$, even powers cancel out, thus,  $I_{anal}=\\frac{a}{3}(x_{i+1}^3-x_{i-1}^3)+c(x_{i+1}-x_{i-1})$. Using Known(1),$\\frac{a}{3}((h+x_i)^3-(-h+x_i)^3)+c((h+x_i)-(-h+x_i))=\\frac{2a}{3}h^3+2ch$"
   ]
  },
  {
   "cell_type": "markdown",
   "metadata": {},
   "source": [
    "(iv)Thus, for one arbitrary base interval:$\\delta I=-K\\frac{f^{(4)}(x_i)}{5!}h^5$ $\\frac{|\\delta I|}{K}=\\frac{f^{(4)}(x_i)}{5!}h^5=\\frac{f^{(4)}(x_i)}{5!}(\\frac{b-a}{N})^5$. Then, for N intervals in range $[a,b]$ it becomes, $\\frac{f^{(4)}(x_i)}{5!}(\\frac{(b-a)^{5}}{N^4})$.\n",
    "Where, $K=\\frac{4}{3}$\n",
    "\n",
    "(v)In the language of Newman, $f^{4}(x_i)=\\frac{f^{(3)}(x_{i-h})-f^{(3)}{(x_{i+h})}}{h}$. Keeping the negative sign intact in the error term. \n",
    "Then,$e_{app}=K\\delta I_{Simpsons}=\\frac{h^4}{90}[f^{(3)}(x_{i-h})-f^{(3)}(x_{i+h})]$. which can then be extrapolated to $[a,b]$ as,$e_{app}=\\frac{h^4}{90}[f^{(3)}(x_{a})-f^{(3)}(x_{b})]$"
   ]
  },
  {
   "cell_type": "markdown",
   "metadata": {},
   "source": [
    "In the case of relative error, such that values of $I_{anal}$ and the fourth derivative will be similar, because considering a very small h the lower powers will dominate. Thus,$ \\kappa \\frac{f^{4}}{I}\\sim 1$.\n",
    "\n",
    "Then, $\\epsilon_{app, rel} \\sim \\frac{(b-a)^5}{N^4}$"
   ]
  },
  {
   "cell_type": "markdown",
   "metadata": {},
   "source": [
    "# 2"
   ]
  },
  {
   "cell_type": "markdown",
   "metadata": {},
   "source": [
    "## A"
   ]
  },
  {
   "cell_type": "code",
   "execution_count": 627,
   "metadata": {},
   "outputs": [],
   "source": [
    "from numpy import*\n"
   ]
  },
  {
   "cell_type": "code",
   "execution_count": 628,
   "metadata": {},
   "outputs": [],
   "source": [
    "def fu(x):\n",
    "    y=2*x**5-3*x**3+5*x**2-7\n",
    "    return y\n",
    "    "
   ]
  },
  {
   "cell_type": "code",
   "execution_count": 629,
   "metadata": {},
   "outputs": [],
   "source": [
    "def trap_intg(a,b,n):\n",
    "    h=(b-a)/(n-1) #spacing\n",
    "    sum=(fu(a)+fu(b))/2 #first-last-term \n",
    "    for i in range(1,n-1):#everything in between for loop\n",
    "        sum+=fu(a+i*h)\n",
    "    return h*sum #scale with h\n",
    "        "
   ]
  },
  {
   "cell_type": "code",
   "execution_count": 630,
   "metadata": {},
   "outputs": [
    {
     "name": "stdout",
     "output_type": "stream",
     "text": [
      "trapezoid integral value is= -10.66666202931135\n"
     ]
    }
   ],
   "source": [
    "print(\"trapezoid integral value is=\",trap_intg(-1,1,1200))"
   ]
  },
  {
   "cell_type": "markdown",
   "metadata": {},
   "source": [
    "Analytical integral:\n",
    "$$\\int_{-1}^{1}f(x)dx=\\frac{1}{3}x^6-\\frac{3}{4}x^4+\\frac{5}{3}x^3-7x\\biggl|_{-1}^{1}=-10.66666666666666$$ \n"
   ]
  },
  {
   "cell_type": "markdown",
   "metadata": {},
   "source": [
    "## B"
   ]
  },
  {
   "cell_type": "code",
   "execution_count": 631,
   "metadata": {},
   "outputs": [
    {
     "name": "stdout",
     "output_type": "stream",
     "text": [
      "e_app= 4.637355315750824e-06\n"
     ]
    }
   ],
   "source": [
    "print(\"e_app=\",abs(-10.66666666666666666666666 - trap_intg(-1,1,1200)))"
   ]
  },
  {
   "cell_type": "markdown",
   "metadata": {},
   "source": [
    "Trapezoid formalism error suggests:\n",
    "$$e_{app,tr}=\\frac{(b-a)^2}{12 N^2}(f^{(1)}(a)-f^{1}(b))$$"
   ]
  },
  {
   "cell_type": "code",
   "execution_count": 632,
   "metadata": {},
   "outputs": [
    {
     "name": "stdout",
     "output_type": "stream",
     "text": [
      "e_app,tr= 4.6296296296296296e-06\n"
     ]
    }
   ],
   "source": [
    "print('e_app,tr=',abs((2)**2)/(12*(1200**2))*(20))"
   ]
  },
  {
   "cell_type": "code",
   "execution_count": 680,
   "metadata": {},
   "outputs": [
    {
     "name": "stdout",
     "output_type": "stream",
     "text": [
      "difference in predicted error vs found error in $10^{-6}$,= 0.007725686121194286\n"
     ]
    }
   ],
   "source": [
    "print(\"difference in predicted error vs found error in $10^{-6}$,=\",abs(-(4.6296296296296296)+(4.637355315750824)))"
   ]
  },
  {
   "cell_type": "markdown",
   "metadata": {},
   "source": [
    "In the case of the Computed error the round off error pitches in calculation thus it is always going to be a tad bit higher depending on the number of steps: $\\epsilon_{ro}=\\sqrt{N}\\epsilon_{machine precision}$"
   ]
  },
  {
   "cell_type": "markdown",
   "metadata": {},
   "source": [
    "## C"
   ]
  },
  {
   "cell_type": "code",
   "execution_count": 634,
   "metadata": {},
   "outputs": [
    {
     "name": "stdout",
     "output_type": "stream",
     "text": [
      "-10.666666666666664\n"
     ]
    }
   ],
   "source": [
    "def Simp_intg(a,b,N):\n",
    "    if N%2==0:\n",
    "        print(\"even numbers not accepted.\")\n",
    "        \n",
    "    else:\n",
    "        N=N+1\n",
    "        h=(b-a)/(N)\n",
    "        sum=(fu(a)+fu(b)) #adding first,last and midpoint terms\n",
    "        for i in range(1,N-1,2):\n",
    "            #now the loop is in 4,2 mode skipping every other i\n",
    "            #till N-2th i\n",
    "            sum+=(4*fu(a+i*h))+2*(fu(a+(i+1)*h))\n",
    "       \n",
    "   \n",
    "        return (h/3)*(sum + 4*fu(a+((N-1)*h)))#added the second last term with a 4\n",
    "print(Simp_intg(-1,1,2401))"
   ]
  },
  {
   "cell_type": "markdown",
   "metadata": {},
   "source": [
    "The $\\epsilon_{app,simp}$ is:"
   ]
  },
  {
   "cell_type": "code",
   "execution_count": 635,
   "metadata": {},
   "outputs": [
    {
     "name": "stdout",
     "output_type": "stream",
     "text": [
      "e_app= 1.7763568394002505e-15\n"
     ]
    }
   ],
   "source": [
    "print(\"e_app=\",abs(-10.66666666666666666666666 - Simp_intg(-1,1,2401)))"
   ]
  },
  {
   "cell_type": "markdown",
   "metadata": {},
   "source": [
    "Which is almost equal to the machine precision. Now the theoretical error is: $f^{(3)}(\\pm 1)=102$, then "
   ]
  },
  {
   "cell_type": "code",
   "execution_count": 636,
   "metadata": {},
   "outputs": [
    {
     "name": "stdout",
     "output_type": "stream",
     "text": [
      "e_app,simp= 0.0\n"
     ]
    }
   ],
   "source": [
    "print('e_app,simp=',abs((2)**4)/(90*(2401**4))*(0))"
   ]
  },
  {
   "cell_type": "code",
   "execution_count": 637,
   "metadata": {},
   "outputs": [
    {
     "name": "stdout",
     "output_type": "stream",
     "text": [
      "difference in predicted error vs found error in $10^{-6}$,= -1.7763568394002505e-15\n"
     ]
    }
   ],
   "source": [
    "print(\"difference in predicted error vs found error in $10^{-6}$,=\",-(1.7763568394002505e-15)+(0))"
   ]
  },
  {
   "cell_type": "markdown",
   "metadata": {},
   "source": [
    "Again the error is due to the the round off error that occurs during computation proptional to $\\sqrt{N}$"
   ]
  },
  {
   "cell_type": "markdown",
   "metadata": {},
   "source": [
    "## 3"
   ]
  },
  {
   "cell_type": "markdown",
   "metadata": {},
   "source": []
  },
  {
   "cell_type": "code",
   "execution_count": 810,
   "metadata": {},
   "outputs": [],
   "source": [
    "def f(x): #defining function\n",
    "    exp=2.7182818284590452353602874\n",
    "    return (((x**4)*(exp**x))/((exp**x)-1)**2)\n",
    "    \n",
    "    \n",
    "    \n",
    "    "
   ]
  },
  {
   "cell_type": "code",
   "execution_count": 811,
   "metadata": {},
   "outputs": [],
   "source": [
    "def gaussleg_int(a,b,N):\n",
    "    x,w=np.polynomial.legendre.leggauss(N)#generating weights \n",
    "    x1=(0.5*(b-a)*x)+(0.5*(b+a))\n",
    "    w1=0.5*(b-a)*w\n",
    "\n",
    "    qutr=0.0#integral\n",
    "    for i in range(N):\n",
    "        qutr+=w1[i]*(f(x1[i]))\n",
    "    return qutr \n",
    "    "
   ]
  },
  {
   "cell_type": "code",
   "execution_count": 812,
   "metadata": {},
   "outputs": [
    {
     "data": {
      "text/plain": [
       "0.201610213274742"
      ]
     },
     "execution_count": 812,
     "metadata": {},
     "output_type": "execute_result"
    }
   ],
   "source": [
    "gaussleg_int(0,428/500,50)"
   ]
  },
  {
   "cell_type": "code",
   "execution_count": 813,
   "metadata": {},
   "outputs": [],
   "source": [
    " #boltzmann\n",
    "def Cv(T):\n",
    "    k=1.380649e-23 #boltzmann\n",
    "    v=0.001#m^3\n",
    "    p=6.022e28#number density\n",
    "    Deb=428#Kelvin\n",
    "    return((9)*v*p*k*((T/Deb)**3)*gaussleg_int(0,Deb/T,50))\n",
    "    \n",
    "    "
   ]
  },
  {
   "cell_type": "code",
   "execution_count": 814,
   "metadata": {},
   "outputs": [
    {
     "name": "stdout",
     "output_type": "stream",
     "text": [
      "Cv= 2405.2364588488904 JK^-1\n"
     ]
    }
   ],
   "source": [
    "print('Cv=',Cv(500),\"JK^-1\")"
   ]
  },
  {
   "cell_type": "code",
   "execution_count": 815,
   "metadata": {},
   "outputs": [],
   "source": [
    "import matplotlib\n",
    "import matplotlib.pyplot as plt\n"
   ]
  },
  {
   "cell_type": "code",
   "execution_count": 816,
   "metadata": {
    "scrolled": true
   },
   "outputs": [
    {
     "data": {
      "image/png": "[encoded data removed]",
      "text/plain": [
       "<Figure size 432x288 with 1 Axes>"
      ]
     },
     "metadata": {
      "needs_background": "light"
     },
     "output_type": "display_data"
    }
   ],
   "source": [
    "T=linspace(5,501)\n",
    "y=Cv(T)\n",
    "\n",
    "fig, ax = plt.subplots()\n",
    "ax.plot(T, y)\n",
    "ax.set(xlabel='Temperature(K)',ylabel='Cv($JK^{-1})$',title=\"Cv vs T\")\n",
    "plt.grid()\n",
    "plt.show()"
   ]
  },
  {
   "cell_type": "markdown",
   "metadata": {},
   "source": [
    "## 4"
   ]
  },
  {
   "cell_type": "markdown",
   "metadata": {},
   "source": [
    "In each of the cases if we take $x=k\\sin(\\phi)$, then $\\phi=\\arcsin(\\frac{x}{k})$ and $d\\phi=(k\\cos(\\arcsin(\\frac{x}{k}))^{-1} dx $\n",
    "Thus, $$g(x)=(k\\cos(\\arcsin(\\frac{x}{k}))$$ and $$W_1(x)=\\frac{1}{\\sqrt{1-x^2}}$$ and $$W_2(x)=\\sqrt{1-x^2}$$\n",
    "The integrals then become:\n",
    "\n",
    "$$E(k)=\\int_{0}^{k} dx W_2(x)g(x)$$\n",
    "$$K(k)=\\int_{0}^{k} dx W_1(x)g(x)$$\n",
    "\n",
    "The integral in form for Gauss-Chebyshev quadrature. However, the limits are not in scale. Thus, we can find weights from $[-1,1]$ and scale them to $[0,k]$ in the form:\n",
    "\n",
    "$$x_i=\\frac{k-0}{2} + \\frac{k-0}{2}*x'_i$$\n",
    "$$W_i=\\frac{k-0}{2}*W_i'$$"
   ]
  },
  {
   "cell_type": "code",
   "execution_count": 1245,
   "metadata": {},
   "outputs": [],
   "source": [
    "\n",
    "from scipy import special"
   ]
  },
  {
   "cell_type": "code",
   "execution_count": 1193,
   "metadata": {},
   "outputs": [],
   "source": [
    "def k(theta,a,r):\n",
    "    \n",
    "    return (np.lib.scimath.sqrt((4*a*r*np.sin(theta))/(a**2 + r**2 + 2*a*r)))"
   ]
  },
  {
   "cell_type": "markdown",
   "metadata": {},
   "source": [
    "np.sqrt wont give me complex values so used np.lib.scimath.sqrt"
   ]
  },
  {
   "cell_type": "code",
   "execution_count": 1194,
   "metadata": {},
   "outputs": [],
   "source": [
    "def f1(x,theta,a,r): #the g(x) same for both integrals\n",
    "     return (1/(k(theta,a,r)*np.cos(np.arcsin(x/k(theta,a,r)))))"
   ]
  },
  {
   "cell_type": "code",
   "execution_count": 1195,
   "metadata": {},
   "outputs": [],
   "source": [
    "def gausscheb_intK(b,N,theta,a,r):\n",
    "    c=k(theta,a,r)\n",
    "    x,w=np.polynomial.chebyshev.chebgauss(N)#weights and points generator first kind\n",
    "    x1=0.5*(c-b)+0.5*(c-b)*x#scaling to what we [o,k]\n",
    "    w1=0.5*(c-b)*w\n",
    "    quad=0.0\n",
    "    for i in range(N):\n",
    "        quad+=w1[i]*f1(x1[i],theta,a,r)\n",
    "         \n",
    "    return quad   \n",
    "                                    \n",
    "    \n",
    "\n"
   ]
  },
  {
   "cell_type": "code",
   "execution_count": 1196,
   "metadata": {},
   "outputs": [],
   "source": [
    "def gausscheb_intE(b,N,theta,a,r):\n",
    "    c=k(theta,a,r)\n",
    "    x3,w3=special.roots_chebyu(N)#second king weights and points gen\n",
    "    x2=0.5*(c-b)+0.5*(c-b)*x3 #scaling\n",
    "    w2=0.5*(c-b)*w3\n",
    "    quad=0.0\n",
    "    for i in range(N):\n",
    "        quad+=w2[i]*f1(x2[i],theta,a,r)\n",
    "         \n",
    "    return quad   \n",
    "    \n",
    "    "
   ]
  },
  {
   "cell_type": "code",
   "execution_count": 1240,
   "metadata": {},
   "outputs": [],
   "source": [
    "def A(r,theta): #composing A\n",
    "    U=(4*4*2)/((2**2)+(r**2)+(2*2*r*np.sin(theta)))\n",
    "    Y=(U/(k(theta,2,r)**2))*(((2-(k(theta,2,r)*k(theta,2,r)))*gausscheb_intK(0,100,theta,2,r))-(2*gausscheb_intE(0,100,theta,2,r)))\n",
    "    return Y  \n",
    "       \n",
    "       "
   ]
  },
  {
   "cell_type": "code",
   "execution_count": 1241,
   "metadata": {},
   "outputs": [],
   "source": [
    "V=[] #straight plot wouldnt work so i made arrays\n",
    "for i in np.arange(1,100,0.2):\n",
    "    V.append(A(i,2*pi/3))"
   ]
  },
  {
   "cell_type": "code",
   "execution_count": 1248,
   "metadata": {
    "scrolled": true
   },
   "outputs": [
    {
     "data": {
      "image/png": "[encoded data removed]",
      "text/plain": [
       "<Figure size 432x288 with 1 Axes>"
      ]
     },
     "metadata": {
      "needs_background": "light"
     },
     "output_type": "display_data"
    }
   ],
   "source": [
    "n=[]\n",
    "for i in np.arange(0.1,50*pi,0.1):\n",
    "    n.append(A(2.3,i).real)\n",
    "x=np.arange(0.1,50*pi,0.1)\n",
    "y=n\n",
    "\n",
    "fig, ax = plt.subplots()\n",
    "ax.plot(x,y)\n",
    "ax.set(xlabel='$\\Theta(rad)$',ylabel='$A_{\\phi}$')\n",
    "plt.grid()\n",
    "plt.show()\n",
    "  "
   ]
  },
  {
   "cell_type": "code",
   "execution_count": 1243,
   "metadata": {},
   "outputs": [
    {
     "data": {
      "image/png": "[encoded data removed]",
      "text/plain": [
       "<Figure size 432x288 with 1 Axes>"
      ]
     },
     "metadata": {
      "needs_background": "light"
     },
     "output_type": "display_data"
    }
   ],
   "source": [
    "x=np.arange(1,100,0.2)\n",
    "y=V\n",
    "fig, ax = plt.subplots()\n",
    "ax.set(xlabel='$r(unit length)$',ylabel='$A_{\\phi}$')\n",
    "ax.plot(x,y)\n",
    "plt.grid()\n",
    "plt.show()"
   ]
  },
  {
   "cell_type": "markdown",
   "metadata": {},
   "source": []
  },
  {
   "cell_type": "code",
   "execution_count": 1244,
   "metadata": {},
   "outputs": [
    {
     "name": "stderr",
     "output_type": "stream",
     "text": [
      "C:\\Users\\vanda\\anaconda3\\lib\\site-packages\\ipykernel_launcher.py:1: RuntimeWarning: invalid value encountered in sqrt\n",
      "  \"\"\"Entry point for launching an IPython kernel.\n"
     ]
    },
    {
     "data": {
      "text/plain": [
       "nan"
      ]
     },
     "execution_count": 1244,
     "metadata": {},
     "output_type": "execute_result"
    }
   ],
   "source": []
  },
  {
   "cell_type": "code",
   "execution_count": 830,
   "metadata": {},
   "outputs": [
    {
     "name": "stderr",
     "output_type": "stream",
     "text": [
      "C:\\Users\\vanda\\anaconda3\\lib\\site-packages\\ipykernel_launcher.py:2: RuntimeWarning: invalid value encountered in sqrt\n",
      "  \n"
     ]
    },
    {
     "data": {
      "text/plain": [
       "(nan+nanj)"
      ]
     },
     "execution_count": 830,
     "metadata": {},
     "output_type": "execute_result"
    }
   ],
   "source": []
  },
  {
   "cell_type": "code",
   "execution_count": null,
   "metadata": {},
   "outputs": [],
   "source": []
  },
  {
   "cell_type": "code",
   "execution_count": null,
   "metadata": {},
   "outputs": [],
   "source": []
  },
  {
   "cell_type": "code",
   "execution_count": null,
   "metadata": {},
   "outputs": [],
   "source": []
  },
  {
   "cell_type": "code",
   "execution_count": null,
   "metadata": {},
   "outputs": [],
   "source": []
  },
  {
   "cell_type": "code",
   "execution_count": null,
   "metadata": {},
   "outputs": [],
   "source": []
  },
  {
   "cell_type": "code",
   "execution_count": null,
   "metadata": {},
   "outputs": [],
   "source": []
  }
 ],
 "metadata": {
  "kernelspec": {
   "display_name": "Python 3",
   "language": "python",
   "name": "python3"
  },
  "language_info": {
   "codemirror_mode": {
    "name": "ipython",
    "version": 3
   },
   "file_extension": ".py",
   "mimetype": "text/x-python",
   "name": "python",
   "nbconvert_exporter": "python",
   "pygments_lexer": "ipython3",
   "version": "3.7.6"
  }
 },
 "nbformat": 4,
 "nbformat_minor": 4
}
