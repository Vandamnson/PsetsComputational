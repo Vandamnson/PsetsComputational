{
 "cells": [
  {
   "cell_type": "markdown",
   "metadata": {},
   "source": [
    "## 1"
   ]
  },
  {
   "cell_type": "code",
   "execution_count": 391,
   "metadata": {},
   "outputs": [],
   "source": [
    "import numpy as np\n",
    "import matplotlib.pyplot as plt\n",
    "from scipy import constants,optimize,integrate\n",
    "import cmath"
   ]
  },
  {
   "cell_type": "code",
   "execution_count": 77,
   "metadata": {},
   "outputs": [
    {
     "name": "stdout",
     "output_type": "stream",
     "text": [
      "2.195295191313747\n"
     ]
    }
   ],
   "source": [
    "a=10**(-10)\n",
    "V=10*0.001*constants.e\n",
    "h=constants.hbar\n",
    "m=constants.m_p\n",
    "z0=(a/h)*np.sqrt(2*m*V)\n",
    "print(z0)"
   ]
  },
  {
   "cell_type": "code",
   "execution_count": 82,
   "metadata": {},
   "outputs": [],
   "source": [
    "def Y(z):\n",
    "    return (cmath.sqrt(((z0/z)**2)-1))"
   ]
  },
  {
   "cell_type": "code",
   "execution_count": 83,
   "metadata": {},
   "outputs": [],
   "source": [
    "def w(z):\n",
    "    return(np.tan(z)-Y(z).real)"
   ]
  },
  {
   "cell_type": "code",
   "execution_count": 530,
   "metadata": {},
   "outputs": [
    {
     "name": "stderr",
     "output_type": "stream",
     "text": [
      "C:\\Users\\vanda\\anaconda3\\lib\\site-packages\\ipykernel_launcher.py:2: RuntimeWarning: divide by zero encountered in double_scalars\n",
      "  \n"
     ]
    }
   ],
   "source": [
    "o=[]\n",
    "N=6\n",
    "for i in np.arange(0,N,1):\n",
    "    o.append(optimize.brentq(w,(2*i)*np.pi/2,((2*i)+1)*np.pi/2))\n"
   ]
  },
  {
   "cell_type": "code",
   "execution_count": 531,
   "metadata": {},
   "outputs": [
    {
     "name": "stdout",
     "output_type": "stream",
     "text": [
      "E(eV): -0.007648577955249643\n",
      "E(eV): 0.010479242715272211\n",
      "E(eV): 0.07191697086108885\n",
      "E(eV): 0.17431318443744998\n",
      "E(eV): 0.31766788344435537\n",
      "E(eV): 0.5019810678818053\n"
     ]
    }
   ],
   "source": [
    "for i in range(len(o)):\n",
    "    print('E(eV):',((((h*o[i]/a)**2)/((2*m)))-V)/constants.e)\n"
   ]
  },
  {
   "cell_type": "markdown",
   "metadata": {},
   "source": [
    "## 2"
   ]
  },
  {
   "cell_type": "code",
   "execution_count": 511,
   "metadata": {},
   "outputs": [],
   "source": [
    "\n",
    "hc = h*constants.c \n",
    "l_1 = 390  \n",
    "l_2 = 750  \n",
    "kb = constants.Boltzmann\n",
    "li1 = hc/(l_2*kb)\n",
    "li2= hc/(l_1*kb)\n",
    "accu = 1  "
   ]
  },
  {
   "cell_type": "code",
   "execution_count": 512,
   "metadata": {},
   "outputs": [],
   "source": [
    "def f(x):\n",
    "    return(x**3/(np.exp(x)-1))"
   ]
  },
  {
   "cell_type": "code",
   "execution_count": 513,
   "metadata": {},
   "outputs": [],
   "source": [
    "def n(T):\n",
    "        N = 100\n",
    "        limit1=li1/T\n",
    "        limit2=li2/T\n",
    "        x, w = np.polynomial.legendre.leggauss(N)\n",
    "        x1=(0.5*(limit2-limit1)*x)+(0.5*(limit2+limit1))\n",
    "        w1=0.5*(limit2-limit1)*w\n",
    "        int1 = 0.0\n",
    "        for i in range(N):\n",
    "            int1 += w1[i] * f(x1[i])\n",
    "\n",
    "        return (15/(np.pi**4))*int1"
   ]
  },
  {
   "cell_type": "code",
   "execution_count": 514,
   "metadata": {},
   "outputs": [],
   "source": [
    "I=[]\n",
    "for i in np.linspace(300,8000,1000):\n",
    "    I.append(n(i))"
   ]
  },
  {
   "cell_type": "code",
   "execution_count": 515,
   "metadata": {},
   "outputs": [
    {
     "data": {
      "text/plain": [
       "Text(0, 0.5, 'n(T)')"
      ]
     },
     "execution_count": 515,
     "metadata": {},
     "output_type": "execute_result"
    },
    {
     "data": {
      "image/png": "[encoded data removed]",
      "text/plain": [
       "<Figure size 432x288 with 1 Axes>"
      ]
     },
     "metadata": {
      "needs_background": "light"
     },
     "output_type": "display_data"
    }
   ],
   "source": [
    "T=np.linspace(300,8000,1000)\n",
    "plt.plot(T,I)\n",
    "plt.xlabel('T(K)')\n",
    "plt.ylabel('n(T)')"
   ]
  },
  {
   "cell_type": "code",
   "execution_count": 516,
   "metadata": {},
   "outputs": [
    {
     "ename": "NameError",
     "evalue": "name 'accu' is not defined",
     "output_type": "error",
     "traceback": [
      "\u001b[1;31m---------------------------------------------------------------------------\u001b[0m",
      "\u001b[1;31mNameError\u001b[0m                                 Traceback (most recent call last)",
      "\u001b[1;32m<ipython-input-516-f4b7cfd26026>\u001b[0m in \u001b[0;36m<module>\u001b[1;34m\u001b[0m\n\u001b[0;32m      8\u001b[0m \u001b[0mn3\u001b[0m\u001b[1;33m=\u001b[0m\u001b[0mn\u001b[0m\u001b[1;33m(\u001b[0m\u001b[0mT3\u001b[0m\u001b[1;33m)\u001b[0m\u001b[1;33m\u001b[0m\u001b[1;33m\u001b[0m\u001b[0m\n\u001b[0;32m      9\u001b[0m \u001b[0mn4\u001b[0m\u001b[1;33m=\u001b[0m\u001b[0mn\u001b[0m\u001b[1;33m(\u001b[0m\u001b[0mT4\u001b[0m\u001b[1;33m)\u001b[0m\u001b[1;33m\u001b[0m\u001b[1;33m\u001b[0m\u001b[0m\n\u001b[1;32m---> 10\u001b[1;33m \u001b[1;32mwhile\u001b[0m \u001b[0mT4\u001b[0m\u001b[1;33m-\u001b[0m\u001b[0mT1\u001b[0m\u001b[1;33m>\u001b[0m\u001b[0maccu\u001b[0m\u001b[1;33m:\u001b[0m\u001b[1;33m\u001b[0m\u001b[1;33m\u001b[0m\u001b[0m\n\u001b[0m\u001b[0;32m     11\u001b[0m     \u001b[1;32mif\u001b[0m \u001b[0mn2\u001b[0m \u001b[1;33m<\u001b[0m \u001b[0mn3\u001b[0m \u001b[1;33m:\u001b[0m\u001b[1;33m\u001b[0m\u001b[1;33m\u001b[0m\u001b[0m\n\u001b[0;32m     12\u001b[0m         \u001b[0mT4\u001b[0m\u001b[1;33m,\u001b[0m\u001b[0mn4\u001b[0m\u001b[1;33m=\u001b[0m\u001b[0mT3\u001b[0m\u001b[1;33m,\u001b[0m\u001b[0mn3\u001b[0m\u001b[1;33m\u001b[0m\u001b[1;33m\u001b[0m\u001b[0m\n",
      "\u001b[1;31mNameError\u001b[0m: name 'accu' is not defined"
     ]
    }
   ],
   "source": [
    "z=(1 + np.sqrt(5))/2  \n",
    "T1=6000\n",
    "T4=8000\n",
    "T2=T4-(T4-T1)/z\n",
    "T3=T4+(T4-T1)/z\n",
    "n1=n(T1)\n",
    "n2=n(T2)\n",
    "n3=n(T3)\n",
    "n4=n(T4)\n",
    "while T4-T1>accu:\n",
    "    if n2 < n3 :\n",
    "        T4,n4=T3,n3\n",
    "        T3,n3=T2,n2\n",
    "        T2=T4-(T4-T1)/z\n",
    "        n2=n(T2)\n",
    "    else:\n",
    "        T1,n1 =T2,n2\n",
    "        T2,n2 =T3,n3\n",
    "        T3=T1+(T4-T1)/z\n",
    "        n3=n(T3)\n",
    "\n",
    "print('T_max(K):', 0.5 * (T1 + T4))\n",
    "\n"
   ]
  },
  {
   "cell_type": "markdown",
   "metadata": {},
   "source": [
    "The melting point of Tungsten is 3695.15 K. It will melt at 7000K, hence, it is not practical. "
   ]
  },
  {
   "cell_type": "code",
   "execution_count": null,
   "metadata": {},
   "outputs": [],
   "source": []
  },
  {
   "cell_type": "code",
   "execution_count": null,
   "metadata": {},
   "outputs": [],
   "source": []
  }
 ],
 "metadata": {
  "kernelspec": {
   "display_name": "Python 3",
   "language": "python",
   "name": "python3"
  },
  "language_info": {
   "codemirror_mode": {
    "name": "ipython",
    "version": 3
   },
   "file_extension": ".py",
   "mimetype": "text/x-python",
   "name": "python",
   "nbconvert_exporter": "python",
   "pygments_lexer": "ipython3",
   "version": "3.7.6"
  }
 },
 "nbformat": 4,
 "nbformat_minor": 4
}
