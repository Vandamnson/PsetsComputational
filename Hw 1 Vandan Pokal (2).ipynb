{
 "cells": [
  {
   "cell_type": "code",
   "execution_count": 146,
   "metadata": {},
   "outputs": [
    {
     "name": "stdout",
     "output_type": "stream",
     "text": [
      "mass of the body in kg:5\n",
      "orbital radius in m:5\n",
      "3.87e+06 sec\n",
      "orbtial time period for mars is 3.16e+07 sec\n",
      "orbital time period for earth is 5.93e+07 sec\n",
      "orbital time period for jupiter is 3.75e+08 sec\n"
     ]
    }
   ],
   "source": [
    "#problem-1\n",
    "#a\n",
    "\n",
    "from math import pi\n",
    "from math import sqrt\n",
    "\n",
    "M=float(input(\"mass of the body in kg:\"))\n",
    "r=float(input(\"orbital radius in m:\"))\n",
    "g=6.6e-11\n",
    "K=g*M\n",
    "J=4*pi**2\n",
    "L=r**3\n",
    "T='{:.2e}'.format(sqrt((J*L/K)))\n",
    "print(T,\"sec\")\n",
    "\n",
    "#b\n",
    "\n",
    "\n",
    "M=1.989e+30\n",
    "r=[1.496e+11,2.279e+11,7.786e+11]   #[earth,mars,jupiter] \n",
    "\n",
    "g=6.674e-11\n",
    "J=4*pi**2\n",
    "K=g*M\n",
    "L=[r[0]**3,r[1]**3,r[2]**3]\n",
    "T=[(sqrt((J*L[0]/K))),(sqrt((J*L[1]/K))),(sqrt((J*L[2]/K)))]\n",
    "y=['{:.2e}'.format(T[0]),'{:.2e}'.format(T[1]),'{:.2e}'.format(T[2])]\n",
    "print(\"orbtial time period for mars is\", y[0],\"sec\")\n",
    "print(\"orbital time period for earth is\",y[1], \"sec\") \n",
    "print(\"orbital time period for jupiter is\", y[2],\"sec\")\n"
   ]
  },
  {
   "cell_type": "code",
   "execution_count": 16,
   "metadata": {},
   "outputs": [
    {
     "name": "stdout",
     "output_type": "stream",
     "text": [
      "E=10eV, V=9eV\n",
      "Intial kinetic energy of the particle in eV:10\n",
      "Energy barrier of the step in eV:9\n",
      "the probabilty of transmission is 0.7301261363877618\n",
      "the probabilty of reflection is 0.26987386361223836\n"
     ]
    }
   ],
   "source": [
    "#problem 2 a\n",
    "from math import sqrt\n",
    "from math import pi\n",
    "\n",
    "print(\"E=10eV, V=9eV\")\n",
    "\n",
    "\n",
    "I=float(input(\"Intial kinetic energy of the particle in eV:\"))\n",
    "S=float(input(\"Energy barrier of the step in eV:\"))\n",
    "e=1.6e-19 #converting-eV-to-Joules\n",
    "E=I*(e)\n",
    "V=S*(e)\n",
    "\n",
    "m=9.11e-31\n",
    "h=6.626e-34/2*pi\n",
    "k=[sqrt(2*m*E/h),sqrt(2*m*(E-V)/h)]\n",
    "A=(k[0]*k[1])\n",
    "B=(k[0]+k[1])\n",
    "C=(k[0]-k[1])\n",
    "T=(4*A)/B**2\n",
    "R=(C/B)**2\n",
    "print(\"the probabilty of transmission is\", T)\n",
    "print(\"the probabilty of reflection is\",R)"
   ]
  },
  {
   "cell_type": "code",
   "execution_count": 6,
   "metadata": {},
   "outputs": [
    {
     "name": "stdout",
     "output_type": "stream",
     "text": [
      "Transmission prob: 1.0\n",
      "Transmission prob: 0.9993065183904877\n",
      "Transmission prob: 0.9968943799848582\n",
      "Transmission prob: 0.9920908936857079\n",
      "Transmission prob: 0.9838667696593351\n",
      "Transmission prob: 0.9705627484771404\n",
      "Transmission prob: 0.9493082760794024\n",
      "Transmission prob: 0.9146067327078854\n",
      "Transmission prob: 0.8541019662496845\n",
      "Transmission prob: 0.7301261363877616\n",
      "Transmission prob: 0.0\n"
     ]
    }
   ],
   "source": [
    "#problem 2 b\n",
    "from math import sqrt\n",
    "from math import pi\n",
    "\n",
    "\n",
    "e=1.6e-19 #converting-eV-to-Joules\n",
    "E=10\n",
    "m=9.11e-31\n",
    "h=6.626e-34/2*pi\n",
    "k_1=sqrt(2*m*E*e/h)\n",
    "\n",
    "x=[0,1,2,3,4,5,6,7,8,9,10] #in-eV\n",
    "for V in x:\n",
    "    k_2=sqrt(2*m*(E-V)*e/h)\n",
    "    A=k_1*k_2\n",
    "    B=k_1+k_2\n",
    "    C=k_1-k_2\n",
    "    T=(4*A)/B**2\n",
    "    print(\"Transmission prob:\",T)\n",
    "  \n",
    "\n",
    "\n",
    "          \n",
    "\n",
    "\n",
    "\n",
    "\n"
   ]
  },
  {
   "cell_type": "code",
   "execution_count": 7,
   "metadata": {},
   "outputs": [
    {
     "name": "stdout",
     "output_type": "stream",
     "text": [
      "Reflection probability: 0.0\n",
      "Reflection probability: 0.0006934816095123028\n",
      "Reflection probability: 0.003105620015141862\n",
      "Reflection probability: 0.007909106314291939\n",
      "Reflection probability: 0.01613323034066491\n",
      "Reflection probability: 0.029437251522859406\n",
      "Reflection probability: 0.05069172392059767\n",
      "Reflection probability: 0.08539326729211474\n",
      "Reflection probability: 0.14589803375031546\n",
      "Reflection probability: 0.26987386361223836\n",
      "Reflection probability: 1.0\n"
     ]
    }
   ],
   "source": [
    "for V in x:\n",
    "    k_2=sqrt(2*m*(E-V)*e/h)\n",
    "    A=k_1*k_2\n",
    "    B=k_1+k_2\n",
    "    C=k_1-k_2\n",
    "    R=((C/B)**2)\n",
    "    print(\"Reflection probability:\",R)"
   ]
  },
  {
   "cell_type": "code",
   "execution_count": 144,
   "metadata": {},
   "outputs": [
    {
     "data": {
      "text/plain": [
       "1"
      ]
     },
     "execution_count": 144,
     "metadata": {},
     "output_type": "execute_result"
    }
   ],
   "source": [
    "\n",
    "import pandas as pd\n",
    "import numpy as np\n",
    "import subprocess\n",
    "\n",
    "df = pd.DataFrame({'V in eV': [0, 1, 2, 3, 4, 5, 6, 7, 8, 9, 10], 'T': [1.0,\n",
    "0.9993065183904877,\n",
    "0.9968943799848582,\n",
    "0.9920908936857079,\n",
    "0.9838667696593351,\n",
    "0.9705627484771404,\n",
    "0.9493082760794024,\n",
    "0.9146067327078854,\n",
    "0.8541019662496845,\n",
    "0.7301261363877616,\n",
    "0.0], 'R':[0.0,\n",
    "0.0006934816095123028,\n",
    "0.003105620015141862,\n",
    "0.007909106314291939,\n",
    "0.01613323034066491,\n",
    "0.029437251522859406,\n",
    "0.05069172392059767,\n",
    "0.08539326729211474,\n",
    "0.14589803375031546,\n",
    "0.26987386361223836,\n",
    "1.0]})\n",
    "\n",
    "import subprocess\n",
    "\n",
    "\n",
    "df.to_html('table2.html')\n",
    "subprocess.call(\n",
    "    'wkhtmltoimage -f png --width 0 table2.html table2.png', shell=True)\n"
   ]
  },
  {
   "cell_type": "code",
   "execution_count": 20,
   "metadata": {
    "scrolled": true
   },
   "outputs": [
    {
     "name": "stdout",
     "output_type": "stream",
     "text": [
      "enter lattice number:10\n"
     ]
    },
    {
     "name": "stderr",
     "output_type": "stream",
     "text": [
      "C:\\Users\\vanda\\anaconda3\\lib\\site-packages\\ipykernel_launcher.py:9: RuntimeWarning: divide by zero encountered in true_divide\n",
      "  if __name__ == '__main__':\n"
     ]
    },
    {
     "data": {
      "text/plain": [
       "'1.693'"
      ]
     },
     "execution_count": 20,
     "metadata": {},
     "output_type": "execute_result"
    }
   ],
   "source": [
    "#problem 3\n",
    "#first way using o-grid\n",
    "import numpy as np\n",
    "L=int(input(\"enter lattice number:\"))\n",
    "def mal(L):\n",
    "    \n",
    "    i,j,k=np.ogrid[-L:L+1,-L:L+1,-L:L+1]\n",
    "    M = '{:.4}'.format(np.where((i!=0) | (j!=0) | (k!=0),\n",
    "            ((-1)**np.sqrt((i+j+k+1)**2))/np.sqrt(i**2+j**2+k**2),\n",
    "             0).sum())\n",
    "    #print(M)\n",
    "    return M\n",
    "    \n",
    "      \n",
    "mal(L)\n",
    "\n",
    "\n",
    "\n",
    "      "
   ]
  },
  {
   "cell_type": "code",
   "execution_count": 26,
   "metadata": {},
   "outputs": [
    {
     "ename": "IndentationError",
     "evalue": "unexpected indent (<ipython-input-26-df29d4511f4a>, line 36)",
     "output_type": "error",
     "traceback": [
      "\u001b[1;36m  File \u001b[1;32m\"<ipython-input-26-df29d4511f4a>\"\u001b[1;36m, line \u001b[1;32m36\u001b[0m\n\u001b[1;33m    return (M)\u001b[0m\n\u001b[1;37m    ^\u001b[0m\n\u001b[1;31mIndentationError\u001b[0m\u001b[1;31m:\u001b[0m unexpected indent\n"
     ]
    }
   ],
   "source": [
    "\n",
    "#second-way with for loops by exploiting the symmtry of the cubic box\n",
    "from math import sqrt\n",
    "l=int(input(\"enter number here:\"))\n",
    "\n",
    "def ko(l):\n",
    "    m1=0.0\n",
    "\n",
    "    #points on the body\n",
    "    #the range is has positive bounds beacuse we are seperating the axes otherwise it would give zero-divide error and integer to the negative power is not allowed\n",
    "    for i in range(1,l+1):\n",
    "   \n",
    "        for j in range (1,l+1):\n",
    "       \n",
    "            for k in range (1,l+1):\n",
    "                m1+=((-1)**(i+j+k+1))/sqrt(i*i+j*j+k*k)\n",
    "                \n",
    "                \n",
    " #points on the axis          \n",
    "    m2=0.0\n",
    "    for i in range (1,l+1):\n",
    "        m2+=((-1)**(i+1))/sqrt(i*i)\n",
    "    \n",
    "\n",
    "\n",
    "\n",
    "#points on the lattice planes\n",
    "    m3=0.0\n",
    "    for i in range (1,l+1):\n",
    "        for j in range(1,l+1):\n",
    "            m3+=((-1)**(i+j+1))/sqrt(i*i+j*j)\n",
    "        \n",
    "#8 body points, 12 lattice points, 6 axis points\n",
    "\n",
    "    M='{:.4}'.format(8*m1+12*m3+6*m2)\n",
    "\n",
    "\n",
    "    #print(\" the madelung constant for NaCl is \",(M))\n",
    "    return (M)\n",
    "\n",
    "    \n",
    "ko(l)    \n",
    "\n",
    "\n",
    "\n"
   ]
  },
  {
   "cell_type": "code",
   "execution_count": 25,
   "metadata": {},
   "outputs": [
    {
     "name": "stderr",
     "output_type": "stream",
     "text": [
      "C:\\Users\\vanda\\anaconda3\\lib\\site-packages\\ipykernel_launcher.py:9: RuntimeWarning: divide by zero encountered in true_divide\n",
      "  if __name__ == '__main__':\n"
     ]
    },
    {
     "name": "stdout",
     "output_type": "stream",
     "text": [
      "['2.134', '1.517', '1.913', '1.619', '1.853', '1.659', '1.825', '1.68', '1.808', '1.693', '1.798', '1.701', '1.79', '1.708', '1.785', '1.713', '1.781', '1.716', '1.777', '1.719', '1.774', '1.722', '1.772', '1.724', '1.77', '1.726', '1.769', '1.727', '1.767', '1.729', '1.766', '1.73', '1.765', '1.731', '1.764', '1.732', '1.763', '1.733', '1.762', '1.733', '1.761', '1.734', '1.761', '1.735', '1.76', '1.735', '1.76', '1.736', '1.759', '1.736', '1.759', '1.737', '1.758', '1.737', '1.758', '1.737', '1.758', '1.738', '1.757', '1.738', '1.757', '1.738', '1.757', '1.739', '1.756', '1.739', '1.756', '1.739', '1.756', '1.739', '1.756', '1.74', '1.755', '1.74', '1.755', '1.74', '1.755', '1.74', '1.755', '1.74', '1.755', '1.741', '1.754', '1.741', '1.754', '1.741', '1.754', '1.741', '1.754', '1.741', '1.754', '1.741', '1.754', '1.741', '1.754', '1.742', '1.753', '1.742', '1.753', '1.742']\n"
     ]
    }
   ],
   "source": [
    "arr=[]\n",
    "for i in range(1,101):\n",
    "    val=mal(i)\n",
    "    arr.append(val)\n",
    "\n",
    "print(arr)\n",
    "    \n",
    "\n"
   ]
  },
  {
   "cell_type": "code",
   "execution_count": null,
   "metadata": {},
   "outputs": [],
   "source": [
    "arr=[]\n",
    "for j in range(1,101):\n",
    "    val=ko(j)\n",
    "    arr.append(val)\n",
    "\n",
    "print(arr)\n",
    "    \n",
    "    \n",
    "    \n",
    "\n"
   ]
  },
  {
   "cell_type": "code",
   "execution_count": 19,
   "metadata": {},
   "outputs": [
    {
     "data": {
      "text/plain": [
       "<matplotlib.legend.Legend at 0x1bdffe48348>"
      ]
     },
     "execution_count": 19,
     "metadata": {},
     "output_type": "execute_result"
    },
    {
     "data": {
      "image/png": "[encoded data removed]",
      "text/plain": [
       "<Figure size 432x288 with 1 Axes>"
      ]
     },
     "metadata": {
      "needs_background": "light"
     },
     "output_type": "display_data"
    }
   ],
   "source": [
    "from pylab import plot\n",
    "import numpy as np\n",
    "from pylab import xlabel,ylabel\n",
    "from pylab import legend\n",
    "x=np.linspace(1,100,num=101)\n",
    "y=[2.134, 1.517, 1.913, 1.619, 1.853, 1.659, 1.825, 1.68, 1.808, 1.693, 1.798, 1.701, 1.79, 1.708, 1.785, 1.713, 1.781, 1.716, 1.777, 1.719, 1.774, 1.722, 1.772, 1.724, 1.77, 1.726, 1.769, 1.727, 1.767, 1.729, 1.766, 1.73, 1.765, 1.731, 1.764, 1.732, 1.763, 1.733, 1.762, 1.733, 1.761, 1.734, 1.761, 1.735, 1.76, 1.735, 1.76, 1.736, 1.759, 1.736, 1.759, 1.737, 1.758, 1.737, 1.758, 1.737, 1.758, 1.738, 1.757, 1.738, 1.757, 1.738, 1.757, 1.739, 1.756, 1.739, 1.756, 1.739, 1.756, 1.739, 1.756, 1.74, 1.755, 1.74, 1.755, 1.74, 1.755, 1.74, 1.755, 1.74, 1.755, 1.741, 1.754, 1.741, 1.754, 1.741, 1.754, 1.741, 1.754, 1.741, 1.754, 1.741, 1.754, 1.741, 1.754, 1.742, 1.753, 1.742, 1.753, 1.742, 1.753]\n",
    "\n",
    "plot(x,y)\n",
    "xlabel('Lattice number')\n",
    "ylabel('Madelung constant')\n",
    "\n",
    "\n",
    "\n",
    "x=np.linspace(1,100,num=101)\n",
    "z=[1.747565,1.747565,1.747565,1.747565,1.747565,1.747565,1.747565,1.747565,1.747565,1.747565,1.747565,1.747565,1.747565,1.747565,1.747565,1.747565,1.747565,1.747565,1.747565,1.747565,1.747565,1.747565,1.747565,1.747565,1.747565,1.747565,1.747565,1.747565,1.747565,1.747565,1.747565,1.747565,1.747565,1.747565,1.747565,1.747565,1.747565,1.747565,1.747565,1.747565,1.747565,1.747565,1.747565,1.747565,1.747565,1.747565,1.747565,1.747565,1.747565,1.747565,1.747565,1.747565,1.747565,1.747565,1.747565,1.747565,1.747565,1.747565,1.747565,1.747565,1.747565,1.747565,1.747565,1.747565,1.747565,1.747565,1.747565,1.747565,1.747565,1.747565,1.747565,1.747565,1.747565,1.747565,1.747565,1.747565,1.747565,1.747565,1.747565,1.747565,1.747565,1.747565,1.747565,1.747565,1.747565,1.747565,1.747565,1.747565,1.747565,1.747565,1.747565,1.747565,1.747565,1.747565,1.747565,1.747565,1.747565,1.747565,1.747565,1.747565,1.747565]\n",
    "\n",
    "plot(x,z, linestyle=':',color='red',label='Actual Madelung constant value')\n",
    "legend()\n"
   ]
  },
  {
   "cell_type": "code",
   "execution_count": 2,
   "metadata": {},
   "outputs": [
    {
     "data": {
      "text/html": [
       "<div id=\"glowscript\" class=\"glowscript\"></div>"
      ],
      "text/plain": [
       "<IPython.core.display.HTML object>"
      ]
     },
     "metadata": {},
     "output_type": "display_data"
    },
    {
     "data": {
      "application/javascript": [
       "if (typeof Jupyter !== \"undefined\") { window.__context = { glowscript_container: $(\"#glowscript\").removeAttr(\"id\")};}else{ element.textContent = ' ';}"
      ],
      "text/plain": [
       "<IPython.core.display.Javascript object>"
      ]
     },
     "metadata": {},
     "output_type": "display_data"
    },
    {
     "data": {
      "text/html": [
       "<div id=\"glowscript\" class=\"glowscript\"></div>"
      ],
      "text/plain": [
       "<IPython.core.display.HTML object>"
      ]
     },
     "metadata": {},
     "output_type": "display_data"
    },
    {
     "data": {
      "application/javascript": [
       "if (typeof Jupyter !== \"undefined\") { window.__context = { glowscript_container: $(\"#glowscript\").removeAttr(\"id\")};}else{ element.textContent = ' ';}"
      ],
      "text/plain": [
       "<IPython.core.display.Javascript object>"
      ]
     },
     "metadata": {},
     "output_type": "display_data"
    },
    {
     "data": {
      "application/javascript": [
       "if (typeof Jupyter !== \"undefined\") {require.undef(\"nbextensions/vpython_libraries/glow.min\");}else{element.textContent = ' ';}"
      ],
      "text/plain": [
       "<IPython.core.display.Javascript object>"
      ]
     },
     "metadata": {},
     "output_type": "display_data"
    },
    {
     "data": {
      "application/javascript": [
       "if (typeof Jupyter !== \"undefined\") {require.undef(\"nbextensions/vpython_libraries/glowcomm\");}else{element.textContent = ' ';}"
      ],
      "text/plain": [
       "<IPython.core.display.Javascript object>"
      ]
     },
     "metadata": {},
     "output_type": "display_data"
    },
    {
     "data": {
      "application/javascript": [
       "if (typeof Jupyter !== \"undefined\") {require.undef(\"nbextensions/vpython_libraries/jquery-ui.custom.min\");}else{element.textContent = ' ';}"
      ],
      "text/plain": [
       "<IPython.core.display.Javascript object>"
      ]
     },
     "metadata": {},
     "output_type": "display_data"
    },
    {
     "data": {
      "application/javascript": [
       "if (typeof Jupyter !== \"undefined\") {require([\"nbextensions/vpython_libraries/glow.min\"], function(){console.log(\"GLOW LOADED\");});}else{element.textContent = ' ';}"
      ],
      "text/plain": [
       "<IPython.core.display.Javascript object>"
      ]
     },
     "metadata": {},
     "output_type": "display_data"
    },
    {
     "data": {
      "application/javascript": [
       "if (typeof Jupyter !== \"undefined\") {require([\"nbextensions/vpython_libraries/glowcomm\"], function(){console.log(\"GLOWCOMM LOADED\");});}else{element.textContent = ' ';}"
      ],
      "text/plain": [
       "<IPython.core.display.Javascript object>"
      ]
     },
     "metadata": {},
     "output_type": "display_data"
    },
    {
     "data": {
      "application/javascript": [
       "if (typeof Jupyter !== \"undefined\") {require([\"nbextensions/vpython_libraries/jquery-ui.custom.min\"], function(){console.log(\"JQUERY LOADED\");});}else{element.textContent = ' ';}"
      ],
      "text/plain": [
       "<IPython.core.display.Javascript object>"
      ]
     },
     "metadata": {},
     "output_type": "display_data"
    },
    {
     "name": "stdout",
     "output_type": "stream",
     "text": [
      "enter height here(m):10\\\n"
     ]
    },
    {
     "ename": "ValueError",
     "evalue": "invalid literal for int() with base 10: '10\\\\'",
     "output_type": "error",
     "traceback": [
      "\u001b[1;31m---------------------------------------------------------------------------\u001b[0m",
      "\u001b[1;31mValueError\u001b[0m                                Traceback (most recent call last)",
      "\u001b[1;32m<ipython-input-2-5ff234059f5e>\u001b[0m in \u001b[0;36m<module>\u001b[1;34m\u001b[0m\n\u001b[0;32m      6\u001b[0m \u001b[0mbox\u001b[0m\u001b[1;33m(\u001b[0m\u001b[0mpos\u001b[0m\u001b[1;33m=\u001b[0m\u001b[0mvector\u001b[0m\u001b[1;33m(\u001b[0m\u001b[1;36m0\u001b[0m\u001b[1;33m,\u001b[0m\u001b[1;36m0\u001b[0m\u001b[1;33m,\u001b[0m\u001b[1;36m0\u001b[0m\u001b[1;33m)\u001b[0m\u001b[1;33m,\u001b[0m \u001b[0msize\u001b[0m\u001b[1;33m=\u001b[0m\u001b[0mvector\u001b[0m\u001b[1;33m(\u001b[0m\u001b[1;36m100\u001b[0m\u001b[1;33m,\u001b[0m\u001b[1;36m1\u001b[0m\u001b[1;33m,\u001b[0m\u001b[1;36m20\u001b[0m\u001b[1;33m)\u001b[0m\u001b[1;33m,\u001b[0m \u001b[0mcolor\u001b[0m\u001b[1;33m=\u001b[0m\u001b[0mcolor\u001b[0m\u001b[1;33m.\u001b[0m\u001b[0mblue\u001b[0m\u001b[1;33m)\u001b[0m\u001b[1;33m\u001b[0m\u001b[1;33m\u001b[0m\u001b[0m\n\u001b[0;32m      7\u001b[0m \u001b[1;33m\u001b[0m\u001b[0m\n\u001b[1;32m----> 8\u001b[1;33m \u001b[0mh\u001b[0m\u001b[1;33m=\u001b[0m\u001b[0mint\u001b[0m\u001b[1;33m(\u001b[0m\u001b[0minput\u001b[0m\u001b[1;33m(\u001b[0m\u001b[1;34m\"enter height here(m):\"\u001b[0m\u001b[1;33m)\u001b[0m\u001b[1;33m)\u001b[0m\u001b[1;33m\u001b[0m\u001b[1;33m\u001b[0m\u001b[0m\n\u001b[0m\u001b[0;32m      9\u001b[0m \u001b[0mx\u001b[0m\u001b[1;33m=\u001b[0m\u001b[1;33m-\u001b[0m\u001b[1;36m10\u001b[0m\u001b[1;33m\u001b[0m\u001b[1;33m\u001b[0m\u001b[0m\n\u001b[0;32m     10\u001b[0m \u001b[0my\u001b[0m\u001b[1;33m=\u001b[0m\u001b[1;36m0\u001b[0m\u001b[1;33m+\u001b[0m\u001b[0mh\u001b[0m\u001b[1;33m\u001b[0m\u001b[1;33m\u001b[0m\u001b[0m\n",
      "\u001b[1;31mValueError\u001b[0m: invalid literal for int() with base 10: '10\\\\'"
     ]
    }
   ],
   "source": [
    "from vpython import *\n",
    "import numpy as np\n",
    "\n",
    "scene=canvas(width=1000,height=1000)\n",
    "\n",
    "box(pos=vector(0,0,0), size=vector(100,1,20), color=color.blue)\n",
    "\n",
    "h=int(input(\"enter height here(m):\"))\n",
    "x=-10\n",
    "y=0+h\n",
    "theta=int(input(\"enter angle of projection(degrees):\"))\n",
    "g=10\n",
    "\n",
    "dt=1/30\n",
    "v=int(input(\"enter velocity here(m/s):\"))\n",
    "dx=(v*np.cos(theta*np.pi/180)*dt)\n",
    "dy=(v*dt*np.sin(theta*np.pi/180)-g*dt*dt/2)\n",
    "ball=sphere(pos=vector(0,0,0),radius=1,color=color.red)\n",
    "\n",
    "for i in np.arange(1000):\n",
    "    rate(1/dt)\n",
    "    x+=dx\n",
    "    y+=dy\n",
    "    \n",
    "    ball.pos=vector(x,y,0)\n",
    "    "
   ]
  },
  {
   "cell_type": "code",
   "execution_count": null,
   "metadata": {},
   "outputs": [],
   "source": []
  },
  {
   "cell_type": "code",
   "execution_count": null,
   "metadata": {},
   "outputs": [],
   "source": []
  }
 ],
 "metadata": {
  "celltoolbar": "Edit Metadata",
  "kernelspec": {
   "display_name": "Python 3",
   "language": "python",
   "name": "python3"
  },
  "language_info": {
   "codemirror_mode": {
    "name": "ipython",
    "version": 3
   },
   "file_extension": ".py",
   "mimetype": "text/x-python",
   "name": "python",
   "nbconvert_exporter": "python",
   "pygments_lexer": "ipython3",
   "version": "3.7.6"
  }
 },
 "nbformat": 4,
 "nbformat_minor": 4
}
