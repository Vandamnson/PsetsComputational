{
 "cells": [
  {
   "cell_type": "markdown",
   "metadata": {},
   "source": [
    "Problem 4.2 Newman"
   ]
  },
  {
   "cell_type": "code",
   "execution_count": null,
   "metadata": {},
   "outputs": [],
   "source": [
    "import numpy as np\n",
    "\n",
    "def roots(a,b,c):\n",
    "    #0.001x^2+1000x+0.001=0\n",
    "    return((-b+np.sqrt(b**2-4*a*c)/2*a),(b-np.sqrt(b**2-4*a*c)/2*a),(2*c/(-b-np.sqrt(b**2-4*a*c))),(2*c/(-b+np.sqrt(b**2-4*a*c))))\n",
    "\n"
   ]
  },
  {
   "cell_type": "code",
   "execution_count": 3,
   "metadata": {},
   "outputs": [
    {
     "name": "stdout",
     "output_type": "stream",
     "text": [
      "(-999.500000000001, 999.500000000001, -1.000000000001e-06, -1000010.5755125057)\n"
     ]
    }
   ],
   "source": [
    "print(roots(0.001,1000,0.001))"
   ]
  },
  {
   "cell_type": "code",
   "execution_count": 4,
   "metadata": {},
   "outputs": [],
   "source": [
    "def plugback(e,f,g,h):\n",
    "    return(0.001*e*e+1000*e+0.001,0.001*f*f+1000*f+0.001,0.001*g*g+1000*g+0.001,0.001*h*h+1000*h+0.001)"
   ]
  },
  {
   "cell_type": "code",
   "execution_count": 5,
   "metadata": {},
   "outputs": [
    {
     "name": "stdout",
     "output_type": "stream",
     "text": [
      "(-998500.998750001, 1000499.0012500011, 0.0, 10575.62534720993)\n"
     ]
    }
   ],
   "source": [
    "print(plugback(-999.500000000001, 999.500000000001, -1.000000000001e-06, -1000010.5755125057))"
   ]
  },
  {
   "cell_type": "markdown",
   "metadata": {},
   "source": [
    "only one of them returns accurate results. The first two roots show a large margin of error, while the third one is a perfect solution. In increasing order of deviation:$f>e>h>g$"
   ]
  },
  {
   "cell_type": "code",
   "execution_count": 24,
   "metadata": {},
   "outputs": [
    {
     "data": {
      "text/plain": [
       "('-9.9950e+02', '9.9950e+02', -1.000000000001e-06, '-1.0000e+06')"
      ]
     },
     "execution_count": 24,
     "metadata": {},
     "output_type": "execute_result"
    }
   ],
   "source": [
    "(\"{:0.5e}\".format(-999.500000000001),\"{:0.5e}\".format(999.500000000001), (-1.000000000001e-06),\"{:0.5e}\".format(-1000010.5755125057))\n"
   ]
  },
  {
   "cell_type": "code",
   "execution_count": 26,
   "metadata": {},
   "outputs": [
    {
     "name": "stdout",
     "output_type": "stream",
     "text": [
      "(-998500.9987499999, 1000499.0012500001, 0.0, 0.001)\n"
     ]
    }
   ],
   "source": [
    "print(plugback(-9.9950e+02, 9.9950e+02, -1.000000000001e-06, -1.0000e+06))"
   ]
  },
  {
   "cell_type": "markdown",
   "metadata": {},
   "source": [
    "Fomatting to the 4th decimal improved accuracy "
   ]
  },
  {
   "cell_type": "code",
   "execution_count": 30,
   "metadata": {},
   "outputs": [
    {
     "name": "stdout",
     "output_type": "stream",
     "text": [
      "(-999999.999999, -1.000000000001e-06)\n"
     ]
    }
   ],
   "source": [
    "#Issue at hand seems to be the resolution of two close numbers, Thus, We can check the discriminant to a threshold, then choose:\n",
    "def roots_2(a, b, c):\n",
    "    D = np.sqrt(b ** 2 - 4 * a * c)\n",
    "    maximum = 10*-3\n",
    "    if abs(D + b) < maximum:\n",
    "        return (2*c)/(-b+D), (-b+D)/(2*a)\n",
    "    else:\n",
    "        return (-b-D)/(2*a),(2*c)/(-b-D)\n",
    "\n",
    "\n",
    "print(roots_2(0.001, 1000, 0.001))"
   ]
  },
  {
   "cell_type": "code",
   "execution_count": 32,
   "metadata": {},
   "outputs": [
    {
     "name": "stdout",
     "output_type": "stream",
     "text": [
      "(7.247924804689582e-08, 0.0, 7.247924804689582e-08, 0.0)\n"
     ]
    }
   ],
   "source": [
    "print(plugback(-999999.999999, -1.000000000001e-06,-999999.999999, -1.000000000001e-06))"
   ]
  },
  {
   "cell_type": "markdown",
   "metadata": {},
   "source": [
    "We have reduced the amount of deviation by a significant amount. "
   ]
  },
  {
   "cell_type": "code",
   "execution_count": null,
   "metadata": {},
   "outputs": [],
   "source": []
  },
  {
   "cell_type": "code",
   "execution_count": null,
   "metadata": {},
   "outputs": [],
   "source": []
  },
  {
   "cell_type": "code",
   "execution_count": null,
   "metadata": {},
   "outputs": [],
   "source": []
  }
 ],
 "metadata": {
  "kernelspec": {
   "display_name": "Python 3",
   "language": "python",
   "name": "python3"
  },
  "language_info": {
   "codemirror_mode": {
    "name": "ipython",
    "version": 3
   },
   "file_extension": ".py",
   "mimetype": "text/x-python",
   "name": "python",
   "nbconvert_exporter": "python",
   "pygments_lexer": "ipython3",
   "version": "3.7.6"
  }
 },
 "nbformat": 4,
 "nbformat_minor": 4
}
