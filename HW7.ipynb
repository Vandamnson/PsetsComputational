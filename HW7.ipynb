{
 "cells": [
  {
   "cell_type": "markdown",
   "metadata": {},
   "source": [
    "## 1"
   ]
  },
  {
   "cell_type": "markdown",
   "metadata": {},
   "source": [
    "(a)"
   ]
  },
  {
   "cell_type": "code",
   "execution_count": 1,
   "metadata": {},
   "outputs": [],
   "source": [
    "from numpy import array,zeros,linalg,empty,copy"
   ]
  },
  {
   "cell_type": "code",
   "execution_count": 2,
   "metadata": {},
   "outputs": [],
   "source": [
    "U=array([[-5  ,2 ,0, -2 ,-3],[0, 1, 0, -5, 4],[0, 0, 1, -1, 1\n",
    "],[0, 0, 0, 4, -2],[0, 0, 0, 0, 4]],float)\n",
    "L=array([[1, 0, 0, 0, 0],[3, 1, 0, 0, 0],[0, 2, 1, 0, 0],[2, 2, -4, 1, 0],[5, -4, -3, -2, 1]],float)\n",
    "bt=array([2,\n",
    "-3,\n",
    "-3,\n",
    "2,\n",
    "3],float)\n"
   ]
  },
  {
   "cell_type": "code",
   "execution_count": 3,
   "metadata": {},
   "outputs": [
    {
     "name": "stdout",
     "output_type": "stream",
     "text": [
      "[[-5.0, 2.0, 0.0, -2.0, -3.0], [-15.0, 7.0, 0.0, -11.0, -5.0], [0.0, 2.0, 1.0, -11.0, 9.0], [-10.0, 6.0, -4.0, -6.0, -4.0], [-25.0, 6.0, -3.0, 5.0, -26.0]]\n"
     ]
    }
   ],
   "source": [
    "A=[]\n",
    "for i in range(5):\n",
    "    a=[]\n",
    "    for j in range(5):\n",
    "        b=0.0\n",
    "        for k in range(5):\n",
    "            b+=L[i,k]*U[k,j]\n",
    "        a.append(b)\n",
    "    A.append(a)           \n",
    "print(A)   "
   ]
  },
  {
   "cell_type": "code",
   "execution_count": 4,
   "metadata": {},
   "outputs": [
    {
     "name": "stdout",
     "output_type": "stream",
     "text": [
      "xtest= [-27.5   28.25  14.75  38.25  38.5 ]\n"
     ]
    }
   ],
   "source": [
    "print('xtest=',linalg.solve(A,bt))"
   ]
  },
  {
   "cell_type": "markdown",
   "metadata": {},
   "source": [
    "(b)"
   ]
  },
  {
   "cell_type": "markdown",
   "metadata": {},
   "source": [
    "$\\textbf{A}x=b$\n",
    "Then, \n",
    "$\\textbf{LU}x=b$\n",
    " set $\\textbf{U}x=c$\n",
    " then $\\textbf{L}c=b$\n",
    " solve for c and solve for x"
   ]
  },
  {
   "cell_type": "code",
   "execution_count": 5,
   "metadata": {},
   "outputs": [],
   "source": [
    "def LUsolver(A,B,b):\n",
    "    N=len(b)\n",
    "    c=empty(N,float)\n",
    "    for i in range(0,N):\n",
    "        c[i]=b[i]\n",
    "        for j in range(i-1,-1,-1):\n",
    "            c[i]-=A[i,j]*c[j]\n",
    "     \n",
    "    N=len(c) \n",
    "    x=empty(N,float)\n",
    "    for i in range(N-1,-1,-1):\n",
    "        x[i]=c[i]/B[i,i]\n",
    "        for j in range(i+1,N):\n",
    "            x[i]-=((B[i,j])*x[j])/B[i,i]\n",
    "    print(x)\n",
    "   "
   ]
  },
  {
   "cell_type": "code",
   "execution_count": 6,
   "metadata": {},
   "outputs": [
    {
     "name": "stdout",
     "output_type": "stream",
     "text": [
      "[-27.5   28.25  14.75  38.25  38.5 ]\n"
     ]
    }
   ],
   "source": [
    "LUsolver(L,U,bt)\n"
   ]
  },
  {
   "cell_type": "markdown",
   "metadata": {},
   "source": [
    "(c)"
   ]
  },
  {
   "cell_type": "markdown",
   "metadata": {},
   "source": [
    "$\\textbf{U}\\textbf{U}^{-1}=\\textbf{I}$,\n",
    "\n",
    "$\\textbf{L}\\textbf{L}^{-1}=\\textbf{I}$,\n",
    "\n",
    "$\\textbf{A}\\textbf{A}^{-1}=\\textbf{I}$,\n",
    "\n",
    "Then,\n",
    "$$\\textbf{A}^{-1}=\\textbf{U}^{-1}\\textbf{L}^{-1}$$\n",
    "\n",
    "Taking the columns of $\\textbf{U}^-1$ and $\\textbf{L}^-1$ as individual solution vectors with corresponding $\\textbf{I}$ basis columns:\n",
    "$\\textbf{U}[u^{-1}_{1}......u^{-1}_{n}]=[I_1,I_2......I_n]$"
   ]
  },
  {
   "cell_type": "code",
   "execution_count": 7,
   "metadata": {},
   "outputs": [],
   "source": [
    "I=array([[1,0,0,0,0],[0,1,0,0,0],[0,0,1,0,0],[0,0,0,1,0],[0,0,0,0,1]],float)"
   ]
  },
  {
   "cell_type": "code",
   "execution_count": 8,
   "metadata": {},
   "outputs": [],
   "source": [
    "def inverse(A,B):\n",
    "    N=len(I)\n",
    "    invL=empty([N,N],float)\n",
    "    for k in range(len(I)):\n",
    "        for i in range(0,N):\n",
    "            invL[k][i]=I[k,i]\n",
    "            for j in range(i-1,-1,-1):\n",
    "                invL[k][i]-=A[i,j]*invL[k][j]\n",
    "    \n",
    "    \n",
    "    invU=empty([N,N],float)\n",
    "    for k in range(len(I)):\n",
    "        for i in range(N-1,-1,-1):\n",
    "            invU[k][i]=I[k,i]/B[i,i]\n",
    "            for j in range(i+1,N):\n",
    "                invU[k][i]-=(B[i,j]*invU[k][j])/B[i,i]\n",
    "    \n",
    "    \n",
    "    inv=[]\n",
    "    for i in range(N):\n",
    "        a=[]\n",
    "        for j in range(N):\n",
    "            b=0.0\n",
    "            for k in range(N):\n",
    "                b+=invU.T[i,k]*invL.T[k,j]\n",
    "            a.append(b)\n",
    "        inv.append(a)           \n",
    "    print(inv) \n",
    "    \n",
    "    \n",
    "    "
   ]
  },
  {
   "cell_type": "code",
   "execution_count": 9,
   "metadata": {},
   "outputs": [
    {
     "name": "stdout",
     "output_type": "stream",
     "text": [
      "[[-10.149999999999999, 4.1, -2.2499999999999996, -0.29999999999999993, -0.35], [10.625, -3.25, 0.875, 0.5, -0.375], [5.875, -1.75, 0.625, 0.0, -0.125], [14.125, -5.25, 2.375, 0.5, 0.125], [14.25, -5.5, 2.75, 0.5, 0.25]]\n"
     ]
    }
   ],
   "source": [
    "inverse(L,U)"
   ]
  },
  {
   "cell_type": "markdown",
   "metadata": {},
   "source": [
    "## 2"
   ]
  },
  {
   "cell_type": "markdown",
   "metadata": {},
   "source": [
    "(a)"
   ]
  },
  {
   "cell_type": "markdown",
   "metadata": {},
   "source": [
    "$I_{+3}=I_{34}+I_{31} \\rightarrow 5=-V_{1}+3V_{3}-V_{4} $,\n",
    "\n",
    "$I_{+1}=I_{13}+I_{14}+I_{12} \\rightarrow 5=4V_{1}-V_{2}-V_{3}-V_{4}$,\n",
    "\n",
    "$I_{20}=I_{12}+I_{42} \\rightarrow 0=V_{1}-3V_{2}+V_{4}$,\n",
    "\n",
    "$I_{40}=I_{14}+I_{34}+I_{24} \\rightarrow 0=V_{1}+V_{2}+V_{3}-4V_{4}$\n",
    "\n",
    "Then $\\textbf{A}$:\n",
    "$$ \\begin{pmatrix}\n",
    "-1 & 0 & 3 & -1\\\\\n",
    "4 & -1 & -1 & -1 \\\\\n",
    "1 & 1 & 1 & -4\\\\\n",
    "1 & -3 & 0 & 1 \\\\\n",
    "\\end{pmatrix}\n",
    "\\begin{pmatrix}\n",
    "V_{1} \\\\\n",
    "V_{2}\\\\\n",
    "V_{3}\\\\\n",
    "V_{4}\n",
    "\\end{pmatrix}=\\begin{pmatrix}\n",
    "5 \\\\\n",
    "5\\\\\n",
    "0\\\\\n",
    "0\n",
    "\\end{pmatrix}$$\n",
    "\n"
   ]
  },
  {
   "cell_type": "code",
   "execution_count": 10,
   "metadata": {},
   "outputs": [],
   "source": [
    "V=array([[1,1,1,-4],[4,-1,-1,-1],[-1,0,3,-1],[1,-3,0,1]],float)\n",
    "b1=array([0,5,5,0],float)"
   ]
  },
  {
   "cell_type": "code",
   "execution_count": 11,
   "metadata": {},
   "outputs": [
    {
     "name": "stdout",
     "output_type": "stream",
     "text": [
      "Voltages(V): [3.         1.66666667 3.33333333 2.        ]\n"
     ]
    }
   ],
   "source": [
    "N=len(b1)\n",
    "#I could have added the pivoting routine but I think it works regardless\n",
    "\n",
    "    \n",
    "for i in range(N):\n",
    "    a=V[i,i]\n",
    "    V[i,:] /=a\n",
    "    b1[i] /=a\n",
    "    for j in range(i+1,N):\n",
    "        c=V[j,i]\n",
    "        V[j,:]-=c*V[i,:]\n",
    "        b1[j]-=c*b1[i]\n",
    "        \n",
    "v=empty(N,float)\n",
    "for i in range(N-1,-1,-1):\n",
    "    v[i]=b1[i]\n",
    "    for j in range(i+1,N):\n",
    "        v[i]-= V[i,j]*v[j]\n",
    "print('Voltages(V):',v)"
   ]
  },
  {
   "cell_type": "markdown",
   "metadata": {},
   "source": [
    "(b)"
   ]
  },
  {
   "cell_type": "markdown",
   "metadata": {},
   "source": [
    "The end junctions will have 3 nearby unknown voltages in the equation; the next junction to the end junction will have four currents through it so it will have 4 voltages in the equation, since they are both connected to the known input voltage $V_{+}$ and ground $V_{0}=0$ on the other end. The middle junctions will have five different voltages associated as each current input has a into the proper middle junctions have,lets say for $V_{3}$: $I_{in}=I_{13}+I_{23}$ and $I_{out}=I_{34}+I_{35}$. Each current has $V_3$ associated with it, thus, so $4V_3$, since I am using the convention: $I_{12}=V_{1}-V_{2}$, rest of all voltages for the $V_3$ junction will have a negative sign because of the convention.\n",
    "\n",
    "Hence, the equations for a middle junction $V_i$ will look like:\n",
    "$$-V_{i-2}-V_{i-1}+4V_{i}-V_{i+1}-V_{i+2}=0$$\n",
    "\n",
    "and the end junctions will look like:\n",
    "$$-V_{n-2}-V_{n-1}+3V_{n}=0$$\n",
    "$$3V_{1}-V_{2}-V_{3}=V_{+}$$\n",
    "the nearby junction to the end junction will have:\n",
    "$$-V_{n-3}-V_{n-2}+4V_{n-1}-V_{n}=0$$\n",
    "$$-V_{1}+4V_{2}-V_{3}-V_{4}=V_{+}$$\n",
    "\n",
    "The vector form equation for this circuit will be a diagonal band matrix:\n",
    "$$\\begin{pmatrix}\n",
    "3 & -1 & -1 & 0 & \\cdots & \\cdots& \\\\\n",
    "-1 & 4 & -1 & -1 & 0 & \\cdots & \\cdots & \\\\\n",
    " -1 & -1 & 4 &-1&-1&0 \\cdots & \\cdots & \\cdots\\\\\n",
    "\\vdots & \\ddots & \\ddots & \\ddots  & \\ddots &  \\\\\n",
    "\\vdots &\\vdots& -1 &-1&4&-1&-1 \\cdots & \\cdots\\\\ \n",
    "\\vdots &  \\vdots& \\ddots & \\ddots & \\cdots-1&-1&4&-1\\\\\n",
    "\\vdots &\\vdots &  \\vdots& \\ddots & \\ddots & \\cdots& \\cdots -1&-1&3\\\\\n",
    "\\end{pmatrix}\\begin{pmatrix}\n",
    "v_{1}\\\\\n",
    "\\vdots \\\\\n",
    "\\vdots \\\\\n",
    "\\vdots  \\\\\n",
    "v_{n}\\\\\n",
    "\\end{pmatrix}=\\begin{pmatrix}\n",
    "5 \\\\\n",
    "5  \\\\\n",
    "0 \\\\\n",
    "\\vdots\\\\\n",
    "\\vdots\\\\\n",
    "0  \\\\\n",
    "\\end{pmatrix} $$"
   ]
  },
  {
   "cell_type": "markdown",
   "metadata": {},
   "source": [
    "(b)"
   ]
  },
  {
   "cell_type": "code",
   "execution_count": 12,
   "metadata": {},
   "outputs": [],
   "source": [
    "def diagSolver(N):\n",
    "    \n",
    "    V=zeros([N,N],float)\n",
    "\n",
    "    for i in range(2,N-2):\n",
    "        V[i,i+1]=-1\n",
    "        V[i,i-1]=-1\n",
    "        V[i,i-2]=-1\n",
    "        V[i,i]=4\n",
    "        V[i+1,i]=-1\n",
    "        V[i+1,i-1]=-1\n",
    "        V[i,i+2]=-1\n",
    "    V[0,0]=3\n",
    "    V[N-1,N-1]=3\n",
    "    V[0,1]=-1\n",
    "    V[0,2]=-1\n",
    "    V[1,0]=-1\n",
    "    V[1,2]=-1\n",
    "    V[1,1]=4\n",
    "    V[1,3]=-1\n",
    "    V[N-2,N-1]=-1\n",
    "    V[N-1,N-3]=-1\n",
    "    V[N-2,N-4]=-1\n",
    "    V[N-1,N-2]=-1\n",
    "    V[N-2,N-2]=4\n",
    "    \n",
    "    v2=zeros(N,float)\n",
    "    v2[0]=v2[1]=5\n",
    "    print('A:',V,'w:',v2)\n",
    "    #print(linalg.solve(V,v2))\n",
    "    for i in range(N):\n",
    "        a=V[i,i]\n",
    "        V[i,:] /= a\n",
    "        v2[i] /= a\n",
    "        \n",
    "    \n",
    "        for j in range(i+1,N):\n",
    "            b=V[j,i]\n",
    "            V[j,:]-=b*V[i,:]\n",
    "            v2[j]-=b*v2[i]\n",
    "    \n",
    "    \n",
    "    v=empty(N,float)\n",
    "    for i in range(N-1,-1,-1):\n",
    "        v[i]=v2[i]\n",
    "        for j in range(i+1,N):\n",
    "            v[i]-=V[i,j]*v[j]\n",
    "    print('Voltages(V):',v)\n",
    "    \n",
    "    \n",
    "        "
   ]
  },
  {
   "cell_type": "code",
   "execution_count": 13,
   "metadata": {},
   "outputs": [
    {
     "name": "stdout",
     "output_type": "stream",
     "text": [
      "A: [[ 3. -1. -1.  0.  0.  0.]\n",
      " [-1.  4. -1. -1.  0.  0.]\n",
      " [-1. -1.  4. -1. -1.  0.]\n",
      " [ 0. -1. -1.  4. -1. -1.]\n",
      " [ 0.  0. -1. -1.  4. -1.]\n",
      " [ 0.  0.  0. -1. -1.  3.]] w: [5. 5. 0. 0. 0. 0.]\n",
      "Voltages(V): [3.7254902  3.43137255 2.74509804 2.25490196 1.56862745 1.2745098 ]\n"
     ]
    }
   ],
   "source": [
    "diagSolver(6)"
   ]
  },
  {
   "cell_type": "code",
   "execution_count": 14,
   "metadata": {},
   "outputs": [],
   "source": [
    "def banded(Aa,va,up,down):#copied from mark newman textbook\n",
    "\n",
    "    # Copy the inputs and determine the size of the system\n",
    "    A = copy(Aa)\n",
    "    v = copy(va)\n",
    "    N = len(v)\n",
    "\n",
    "    # Gaussian elimination\n",
    "    for m in range(N):\n",
    "\n",
    "        # Normalization factor\n",
    "        div = A[up,m]\n",
    "\n",
    "        # Update the vector first\n",
    "        v[m] /= div\n",
    "        for k in range(1,down+1):\n",
    "            if m+k<N:\n",
    "                v[m+k] -= A[up+k,m]*v[m]\n",
    "\n",
    "        # Now normalize the pivot row of A and subtract from lower ones\n",
    "        for i in range(up):\n",
    "            j = m + up - i\n",
    "            if j<N:\n",
    "                A[i,j] /= div\n",
    "                for k in range(1,down+1):\n",
    "                    A[i+k,j] -= A[up+k,m]*A[i,j]\n",
    "\n",
    "    # Backsubstitution\n",
    "    for m in range(N-2,-1,-1):\n",
    "        for i in range(up):\n",
    "            j = m + up - i\n",
    "            if j<N:\n",
    "                v[m] -= A[i,j]*v[j]\n",
    "\n",
    "    return v       "
   ]
  },
  {
   "cell_type": "code",
   "execution_count": 15,
   "metadata": {},
   "outputs": [],
   "source": [
    "def bandedsolver(N):\n",
    "    G=empty([5,N],float)#5-diagonals\n",
    "    G[0,:]=-1\n",
    "    G[1,:]=-1\n",
    "    G[2,:]=4\n",
    "    G[3,:]=-1\n",
    "    G[4,:]=-1\n",
    "    G[2,0]=3\n",
    "    G[2,N-1]=3\n",
    "    q=zeros(N,float)\n",
    "    q[0]=q[1]=5\n",
    "    x=banded(G,q,2,2)\n",
    "    print('Voltages(V):',x)\n"
   ]
  },
  {
   "cell_type": "code",
   "execution_count": 16,
   "metadata": {},
   "outputs": [
    {
     "name": "stdout",
     "output_type": "stream",
     "text": [
      "Voltages(V): [4.99888228e+00 4.99861842e+00 4.99802841e+00 ... 1.97158611e-03\n",
      " 1.38158071e-03 1.11772227e-03]\n"
     ]
    }
   ],
   "source": [
    "bandedsolver(10000)"
   ]
  },
  {
   "cell_type": "code",
   "execution_count": null,
   "metadata": {},
   "outputs": [],
   "source": []
  },
  {
   "cell_type": "code",
   "execution_count": null,
   "metadata": {},
   "outputs": [],
   "source": []
  },
  {
   "cell_type": "code",
   "execution_count": null,
   "metadata": {},
   "outputs": [],
   "source": []
  },
  {
   "cell_type": "code",
   "execution_count": null,
   "metadata": {},
   "outputs": [],
   "source": []
  },
  {
   "cell_type": "code",
   "execution_count": null,
   "metadata": {},
   "outputs": [],
   "source": []
  },
  {
   "cell_type": "code",
   "execution_count": null,
   "metadata": {},
   "outputs": [],
   "source": []
  }
 ],
 "metadata": {
  "kernelspec": {
   "display_name": "Python 3",
   "language": "python",
   "name": "python3"
  },
  "language_info": {
   "codemirror_mode": {
    "name": "ipython",
    "version": 3
   },
   "file_extension": ".py",
   "mimetype": "text/x-python",
   "name": "python",
   "nbconvert_exporter": "python",
   "pygments_lexer": "ipython3",
   "version": "3.7.6"
  }
 },
 "nbformat": 4,
 "nbformat_minor": 4
}
